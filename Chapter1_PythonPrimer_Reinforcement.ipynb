{
 "cells": [
  {
   "cell_type": "markdown",
   "id": "f9ea64ae",
   "metadata": {},
   "source": [
    "# Data Structures & Algorithms in Python by Goodrich, Tamasia & Goldwasser"
   ]
  },
  {
   "cell_type": "markdown",
   "id": "e2abc2d9",
   "metadata": {},
   "source": [
    "# Chapter 1"
   ]
  },
  {
   "cell_type": "markdown",
   "id": "94337e9c",
   "metadata": {},
   "source": [
    "### Reinforcement Solutions"
   ]
  },
  {
   "cell_type": "markdown",
   "id": "b4625758",
   "metadata": {},
   "source": [
    "#### **R 1-1**"
   ]
  },
  {
   "cell_type": "markdown",
   "id": "b018329c",
   "metadata": {},
   "source": [
    "Write a short Python function, is multiple(n, m), that takes two integer values and returns True if n is a multiple of m, that is, n = mi for some integer i, and False otherwise."
   ]
  },
  {
   "cell_type": "code",
   "execution_count": 3,
   "id": "c747e225",
   "metadata": {},
   "outputs": [
    {
     "name": "stdout",
     "output_type": "stream",
     "text": [
      "True\n"
     ]
    }
   ],
   "source": [
    "def r1_1(n, m):\n",
    "    \"\"\"\n",
    "    Short function to find if the given n is multiple of m; i.e. n = mi\n",
    "    :param n: Target value\n",
    "    :param m: Reference value\n",
    "    :return: Boolean after the validation\n",
    "    \"\"\"\n",
    "    return True if n % m == 0 else False\n",
    "\n",
    "\n",
    "print(r1_1(90, 9))"
   ]
  },
  {
   "cell_type": "markdown",
   "id": "565f8fa3",
   "metadata": {},
   "source": [
    "#### **R 1-2**"
   ]
  },
  {
   "cell_type": "markdown",
   "id": "19646f52",
   "metadata": {},
   "source": [
    "Write a short Python function, is even(k), that takes an integer value and returns True if k is even, and False otherwise. However, your function cannot use the multiplication, modulo, or division operators."
   ]
  },
  {
   "cell_type": "code",
   "execution_count": 2,
   "id": "0f7b77ee",
   "metadata": {},
   "outputs": [
    {
     "name": "stdout",
     "output_type": "stream",
     "text": [
      "False\n"
     ]
    }
   ],
   "source": [
    "def r1_2(k):\n",
    "    \"\"\"\n",
    "    Short function to find odd/even without using any of the division, multiplication or modulo operators\n",
    "    :param k: Target value to check if its odd or even\n",
    "    :return: Boolean after the validation\n",
    "    \"\"\"\n",
    "    return True if k & 1 == 0 else False\n",
    "\n",
    "\n",
    "print(r1_2(91))"
   ]
  },
  {
   "cell_type": "markdown",
   "id": "20df9d65",
   "metadata": {},
   "source": [
    "#### **R 1-3**"
   ]
  },
  {
   "cell_type": "markdown",
   "id": "cb72cd4d",
   "metadata": {},
   "source": [
    "Write a short Python function, minmax(data), that takes a sequence of one or more numbers, and returns the smallest and largest numbers, in the form of a tuple of length two. Do not use the built-in functions min or max in implementing your solution."
   ]
  },
  {
   "cell_type": "code",
   "execution_count": 3,
   "id": "5b867dfb",
   "metadata": {},
   "outputs": [
    {
     "name": "stdout",
     "output_type": "stream",
     "text": [
      "(2, 55)\n"
     ]
    }
   ],
   "source": [
    "def r1_3(n):\n",
    "    \"\"\"\n",
    "    Function to find the mixmax without using the builtin functions\n",
    "    :param n: List of integers\n",
    "    :return:\n",
    "    \"\"\"\n",
    "\n",
    "    def _minmax(n):\n",
    "        _rMin = _rMax = n[0]\n",
    "        for i in n[1:]:\n",
    "            if i < _rMin:\n",
    "                _rMin = i\n",
    "            elif i > _rMax:\n",
    "                _rMax = i\n",
    "        return _rMin, _rMax\n",
    "\n",
    "    return (n[0], n[0]) if len(n) == 1 else _minmax(n)\n",
    "\n",
    "\n",
    "print(r1_3([5, 3, 7, 2, 9, 11, 55, 32]))"
   ]
  },
  {
   "cell_type": "markdown",
   "id": "4e50ba85",
   "metadata": {},
   "source": [
    "#### **R 1-4**"
   ]
  },
  {
   "cell_type": "markdown",
   "id": "8a739670",
   "metadata": {},
   "source": [
    "Write a short Python function that takes a positive integer n and returns the sum of the squares of all the positive integers smaller than n."
   ]
  },
  {
   "cell_type": "code",
   "execution_count": 4,
   "id": "7679006b",
   "metadata": {},
   "outputs": [
    {
     "name": "stdout",
     "output_type": "stream",
     "text": [
      "285\n"
     ]
    }
   ],
   "source": [
    "def r1_4(n):\n",
    "    \"\"\"\n",
    "    Short function to find the sum of the sqrt of all positive number less than n\n",
    "    :param n: Target number\n",
    "    :return: sum of sqrt of all numbers less than n\n",
    "    \"\"\"\n",
    "    _rlist = []\n",
    "    for i in range(1,n):\n",
    "        _rlist.append(i*i)\n",
    "    return sum(_rlist)\n",
    "\n",
    "\n",
    "print(r1_4(10))"
   ]
  },
  {
   "cell_type": "markdown",
   "id": "352d5097",
   "metadata": {},
   "source": [
    "#### **R 1-5**"
   ]
  },
  {
   "cell_type": "markdown",
   "id": "c49cb1f3",
   "metadata": {},
   "source": [
    "Give a single command that computes the sum from Exercise R-1.4, rely- ing on Python’s comprehension syntax and the built-in sum function."
   ]
  },
  {
   "cell_type": "code",
   "execution_count": 5,
   "id": "c18cf982",
   "metadata": {},
   "outputs": [
    {
     "name": "stdout",
     "output_type": "stream",
     "text": [
      "285\n"
     ]
    }
   ],
   "source": [
    "def r1_5(n):\n",
    "    \"\"\"\n",
    "    Short function to find the sum of the sqrt of all positive number less than n\n",
    "    :param n: Target number\n",
    "    :return: sum of sqrt of all numbers less than n\n",
    "    \"\"\"\n",
    "    return sum([i*i for i in range(1,n)])\n",
    "\n",
    "\n",
    "print(r1_5(10))"
   ]
  },
  {
   "cell_type": "markdown",
   "id": "03717c0c",
   "metadata": {},
   "source": [
    "#### **R 1-6**"
   ]
  },
  {
   "cell_type": "markdown",
   "id": "81657179",
   "metadata": {},
   "source": [
    "Write a short Python function that takes a positive integer n and returns the sum of the squares of all the odd positive integers smaller than n."
   ]
  },
  {
   "cell_type": "code",
   "execution_count": 6,
   "id": "945cef64",
   "metadata": {},
   "outputs": [
    {
     "name": "stdout",
     "output_type": "stream",
     "text": [
      "165\n"
     ]
    }
   ],
   "source": [
    "def r1_6(n):\n",
    "    \"\"\"\n",
    "    Short function to find the sum of sqrt of all odd positive numbers less than n\n",
    "    :param n: Target number\n",
    "    :return: sum of sqrt of all odd numbers less than n\n",
    "    \"\"\"\n",
    "    rlist = []\n",
    "    for i in range(1,n):\n",
    "        if i & 1 == 1:\n",
    "            rlist.append(i*i)\n",
    "    return sum(rlist)\n",
    "\n",
    "\n",
    "print(r1_6(10))"
   ]
  },
  {
   "cell_type": "markdown",
   "id": "6d553e43",
   "metadata": {},
   "source": [
    "#### **R 1-7**"
   ]
  },
  {
   "cell_type": "markdown",
   "id": "02173ad6",
   "metadata": {},
   "source": [
    "Give a single command that computes the sum from Exercise R-1.6, rely- ing on Python’s comprehension syntax and the built-in sum function."
   ]
  },
  {
   "cell_type": "code",
   "execution_count": 7,
   "id": "d2a0e3a3",
   "metadata": {},
   "outputs": [
    {
     "name": "stdout",
     "output_type": "stream",
     "text": [
      "165\n"
     ]
    }
   ],
   "source": [
    "def r1_7(n):\n",
    "    \"\"\"\n",
    "    Short function to find the sum of sqrt of all odd positive numbers less than n\n",
    "    :param n: Target number\n",
    "    :return: sum of sqrt of all odd numbers less than n\n",
    "    \"\"\"\n",
    "    return sum([i*i for i in range(1,n) if i & 1 == 1])\n",
    "\n",
    "\n",
    "print(r1_7(10))"
   ]
  },
  {
   "cell_type": "markdown",
   "id": "b32d6eff",
   "metadata": {},
   "source": [
    "#### **R 1-8**"
   ]
  },
  {
   "cell_type": "markdown",
   "id": "798ae776",
   "metadata": {},
   "source": [
    "Python allows negative integers to be used as indices into a sequence, such as a string. If string s has length n, and expression s[k] is used for in- dex −n ≤ k < 0, what is the equivalent index j ≥ 0 such that s[j] references the same element?"
   ]
  },
  {
   "cell_type": "code",
   "execution_count": 8,
   "id": "50f61323",
   "metadata": {},
   "outputs": [
    {
     "name": "stdout",
     "output_type": "stream",
     "text": [
      "(3, 4)\n"
     ]
    }
   ],
   "source": [
    "def r1_8(nlist, k):\n",
    "    \"\"\"\n",
    "    Short function to positive index of the given negative index and list\n",
    "    1,2,3,4,5 // -5, -4, -3 ,-2, -1\n",
    "    To convert negative index to positive - Add the negative index with the length of the list\n",
    "    :param nlist: Given list\n",
    "    :param k: negative index\n",
    "    :return: positive index and the value of that particular index\n",
    "    \"\"\"\n",
    "    return k+len(nlist), nlist[k+len(nlist)]\n",
    "\n",
    "\n",
    "print(r1_8([1,2,3,4,5], -2))"
   ]
  },
  {
   "cell_type": "markdown",
   "id": "b36ed5e1",
   "metadata": {},
   "source": [
    "#### **R 1-9**"
   ]
  },
  {
   "cell_type": "markdown",
   "id": "572ef4b5",
   "metadata": {},
   "source": [
    "What parameters should be sent to the range constructor, to produce a range with values 50, 60, 70, 80?"
   ]
  },
  {
   "cell_type": "code",
   "execution_count": 9,
   "id": "107947a6",
   "metadata": {},
   "outputs": [
    {
     "name": "stdout",
     "output_type": "stream",
     "text": [
      "[50, 60, 70, 80]\n"
     ]
    }
   ],
   "source": [
    "def r1_9():\n",
    "    \"\"\"\n",
    "    Short function to return the expected output\n",
    "    :return: return the required range of 50, 60, 70, 80\n",
    "    \"\"\"\n",
    "    return [i for i in range(50,90,10)]\n",
    "\n",
    "\n",
    "print(r1_9())"
   ]
  },
  {
   "cell_type": "markdown",
   "id": "ea626ab1",
   "metadata": {},
   "source": [
    "#### **R 1-10**"
   ]
  },
  {
   "cell_type": "markdown",
   "id": "baa7a2e6",
   "metadata": {},
   "source": [
    "What parameters should be sent to the range constructor, to produce a range with values 8, 6, 4, 2, 0, −2, −4, −6, −8?"
   ]
  },
  {
   "cell_type": "code",
   "execution_count": 10,
   "id": "4c4b3c69",
   "metadata": {},
   "outputs": [
    {
     "name": "stdout",
     "output_type": "stream",
     "text": [
      "[8, 6, 4, 2, 0, -2, -4, -6, -8]\n"
     ]
    }
   ],
   "source": [
    "def r1_10():\n",
    "    \"\"\"\n",
    "    Short function to return the expected output\n",
    "    :return: return the required range of 8, 6, 4, 2, 0, -2, -4, -6, -8\n",
    "    \"\"\"\n",
    "    return [i for i in range(8,-10,-2)]\n",
    "\n",
    "\n",
    "print(r1_10())"
   ]
  },
  {
   "cell_type": "markdown",
   "id": "b827ceae",
   "metadata": {},
   "source": [
    "#### **R 1-11**"
   ]
  },
  {
   "cell_type": "markdown",
   "id": "08759384",
   "metadata": {},
   "source": [
    "Demonstrate how to use Python’s list comprehension syntax to produce the list [1, 2, 4, 8, 16, 32, 64, 128, 256]"
   ]
  },
  {
   "cell_type": "code",
   "execution_count": 11,
   "id": "be7c8925",
   "metadata": {},
   "outputs": [
    {
     "name": "stdout",
     "output_type": "stream",
     "text": [
      "[1, 2, 4, 8, 16, 32, 64, 128, 256]\n"
     ]
    }
   ],
   "source": [
    "def r1_11():\n",
    "    \"\"\"\n",
    "    Short comprehensive function to return the required output\n",
    "    :return: return the required list of range [1, 2, 4, 8, 16, 32, 64, 128, 256]\n",
    "    \"\"\"\n",
    "    return [pow(2,i) for i in range(9)]\n",
    "\n",
    "\n",
    "print(r1_11())"
   ]
  },
  {
   "cell_type": "markdown",
   "id": "c64ea5ce",
   "metadata": {},
   "source": [
    "#### **R 1-12**"
   ]
  },
  {
   "cell_type": "markdown",
   "id": "38aa7782",
   "metadata": {},
   "source": [
    "Python’s random module includes a function choice(data) that returns a random element from a non-empty sequence. The random module in- cludes a more basic function randrange, with parameterization similar to the built-in range function, that return a random choice from the given range. Using only the randrange function, implement your own version of the choice function."
   ]
  },
  {
   "cell_type": "code",
   "execution_count": 13,
   "id": "d50f1416",
   "metadata": {},
   "outputs": [
    {
     "name": "stdout",
     "output_type": "stream",
     "text": [
      "75\n"
     ]
    }
   ],
   "source": [
    "import random\n",
    "\n",
    "def r1_12():\n",
    "    \"\"\"\n",
    "    Short function to replicate the random choice function for the given range\n",
    "    :return: return a random number for the given range\n",
    "    \"\"\"\n",
    "    return random.randrange(5,101,5)\n",
    "\n",
    "\n",
    "print(r1_12())"
   ]
  }
 ],
 "metadata": {
  "kernelspec": {
   "display_name": "Python 3 (ipykernel)",
   "language": "python",
   "name": "python3"
  },
  "language_info": {
   "codemirror_mode": {
    "name": "ipython",
    "version": 3
   },
   "file_extension": ".py",
   "mimetype": "text/x-python",
   "name": "python",
   "nbconvert_exporter": "python",
   "pygments_lexer": "ipython3",
   "version": "3.8.9"
  }
 },
 "nbformat": 4,
 "nbformat_minor": 5
}
